{
  "cells": [
    {
      "cell_type": "markdown",
      "metadata": {
        "id": "view-in-github",
        "colab_type": "text"
      },
      "source": [
        "<a href=\"https://colab.research.google.com/github/AninditaaMaitsa/Datamin/blob/main/tugas2.ipynb\" target=\"_parent\"><img src=\"https://colab.research.google.com/assets/colab-badge.svg\" alt=\"Open In Colab\"/></a>"
      ]
    },
    {
      "cell_type": "code",
      "source": [
        "import numpy as np\n",
        "import matplotlib.pyplot as plt\n",
        "import pandas as pd"
      ],
      "metadata": {
        "id": "6U717KX2NrFf"
      },
      "execution_count": 106,
      "outputs": []
    },
    {
      "cell_type": "code",
      "source": [
        "dataset = pd.read_csv('tugass2.csv')\n",
        "X = dataset. iloc[:, :-1].values\n",
        "y = dataset.iloc[:, -1].values"
      ],
      "metadata": {
        "id": "NAHw_-nENwiF"
      },
      "execution_count": 107,
      "outputs": []
    },
    {
      "cell_type": "code",
      "source": [
        "print(X)"
      ],
      "metadata": {
        "colab": {
          "base_uri": "https://localhost:8080/"
        },
        "id": "FYdau6tzRKRJ",
        "outputId": "b87f8aec-42cf-43d1-972c-6e8f42159994"
      },
      "execution_count": 108,
      "outputs": [
        {
          "output_type": "stream",
          "name": "stdout",
          "text": [
            "[[1 'Male' 19 ... 39 'Healthcare' 1]\n",
            " [2 'Male' 21 ... 81 'Engineer' 3]\n",
            " [3 'Female' 20 ... 6 'Engineer' 1]\n",
            " ...\n",
            " [1998 'Male' 87 ... 14 'Healthcare' 9]\n",
            " [1999 'Male' 77 ... 4 'Executive' 7]\n",
            " [2000 'Male' 90 ... 52 'Entertainment' 5]]\n"
          ]
        }
      ]
    },
    {
      "cell_type": "code",
      "source": [
        "print(y)"
      ],
      "metadata": {
        "colab": {
          "base_uri": "https://localhost:8080/"
        },
        "id": "-d7EmtJ-RPM4",
        "outputId": "e08f77d1-c35e-4714-9345-88b772a8f356"
      },
      "execution_count": 103,
      "outputs": [
        {
          "output_type": "stream",
          "name": "stdout",
          "text": [
            "[4 3 1 ... 2 2 2]\n"
          ]
        }
      ]
    },
    {
      "cell_type": "code",
      "source": [
        "from sklearn.impute import SimpleImputer\n",
        "imputer = SimpleImputer (missing_values=np.nan, strategy='mean')\n",
        "imputer.fit(X[:, 4:5])\n",
        "X[:, 4:5] = imputer.transform(X[:, 4:5])"
      ],
      "metadata": {
        "id": "DoQShSEISRXI"
      },
      "execution_count": 161,
      "outputs": []
    },
    {
      "cell_type": "code",
      "source": [
        "print(X)"
      ],
      "metadata": {
        "colab": {
          "base_uri": "https://localhost:8080/"
        },
        "id": "JUFrSkR3UkVK",
        "outputId": "629f85be-c92e-4321-83c2-83e297ef692b"
      },
      "execution_count": 160,
      "outputs": [
        {
          "output_type": "stream",
          "name": "stdout",
          "text": [
            "[[0.0 1.0 0.0 ... 39.0 'Healthcare' 1]\n",
            " [1.0 0.0 1.0 ... 81.0 'Engineer' 3]\n",
            " [1.0 0.0 0.0 ... 6.0 'Engineer' 1]\n",
            " ...\n",
            " [1.0 0.0 0.0 ... 14.0 'Healthcare' 9]\n",
            " [1.0 0.0 0.0 ... 4.0 'Executive' 7]\n",
            " [1.0 0.0 0.0 ... 52.0 'Entertainment' 5]]\n"
          ]
        }
      ]
    },
    {
      "cell_type": "code",
      "source": [
        "from sklearn.compose import ColumnTransformer\n",
        "from sklearn.preprocessing import OneHotEncoder\n",
        "ct = ColumnTransformer (transformers=[ ('encoder' , OneHotEncoder(sparse_output=False), [0])], remainder='passthrough')\n",
        "X = np.array(ct.fit_transform(X))"
      ],
      "metadata": {
        "id": "e5zOe2hDXA0s"
      },
      "execution_count": 159,
      "outputs": []
    },
    {
      "cell_type": "code",
      "source": [
        "print(X)"
      ],
      "metadata": {
        "colab": {
          "base_uri": "https://localhost:8080/"
        },
        "id": "-SePhnfpXCYq",
        "outputId": "ad834995-0d38-4a21-c2da-8caf8c316f83"
      },
      "execution_count": 158,
      "outputs": [
        {
          "output_type": "stream",
          "name": "stdout",
          "text": [
            "[[1.0 0.0 0.0 ... 39.0 'Healthcare' 1]\n",
            " [0.0 1.0 0.0 ... 81.0 'Engineer' 3]\n",
            " [0.0 0.0 1.0 ... 6.0 'Engineer' 1]\n",
            " ...\n",
            " [0.0 0.0 0.0 ... 14.0 'Healthcare' 9]\n",
            " [0.0 0.0 0.0 ... 4.0 'Executive' 7]\n",
            " [0.0 0.0 0.0 ... 52.0 'Entertainment' 5]]\n"
          ]
        }
      ]
    },
    {
      "cell_type": "code",
      "source": [
        "from sklearn.preprocessing import LabelEncoder \n",
        "le = LabelEncoder()\n",
        "y = le.fit_transform(y)"
      ],
      "metadata": {
        "id": "kPtezQoRh4JA"
      },
      "execution_count": 121,
      "outputs": []
    },
    {
      "cell_type": "code",
      "source": [
        "print(y)"
      ],
      "metadata": {
        "colab": {
          "base_uri": "https://localhost:8080/"
        },
        "id": "H9z54VKYiDPk",
        "outputId": "7c84455d-4bd3-4926-822d-cdb4ffe27e6d"
      },
      "execution_count": 122,
      "outputs": [
        {
          "output_type": "stream",
          "name": "stdout",
          "text": [
            "[3 2 0 ... 1 1 1]\n"
          ]
        }
      ]
    },
    {
      "cell_type": "code",
      "source": [
        "from sklearn.model_selection import train_test_split\n",
        "X_train,X_test,y_train,y_test = train_test_split(X, y, test_size = 0.2, random_state = 1)"
      ],
      "metadata": {
        "id": "9vIYQ9gTiEvW"
      },
      "execution_count": 152,
      "outputs": []
    },
    {
      "cell_type": "code",
      "source": [
        "print(X_train)"
      ],
      "metadata": {
        "colab": {
          "base_uri": "https://localhost:8080/"
        },
        "id": "pDsjLzeyn6nb",
        "outputId": "0fb3458c-97e5-484e-f12f-a9e77ba96b83"
      },
      "execution_count": 153,
      "outputs": [
        {
          "output_type": "stream",
          "name": "stdout",
          "text": [
            "[[1.0 0.0 0.0 ... 39.0 'Healthcare' 1]\n",
            " [0.0 0.0 0.0 ... 42.0 'Homemaker' 8]\n",
            " [0.0 0.0 0.0 ... 11.0 'Lawyer' 1]\n",
            " ...\n",
            " [0.0 0.0 0.0 ... 79.0 nan 7]\n",
            " [0.0 0.0 0.0 ... 34.0 'Healthcare' 0]\n",
            " [0.0 0.0 0.0 ... 88.0 'Executive' 0]]\n"
          ]
        }
      ]
    },
    {
      "cell_type": "code",
      "source": [
        "print(X_test)"
      ],
      "metadata": {
        "colab": {
          "base_uri": "https://localhost:8080/"
        },
        "id": "YzQST1gmn-Rh",
        "outputId": "aebf50a6-de79-4d66-8ce5-2c829d766f1d"
      },
      "execution_count": 154,
      "outputs": [
        {
          "output_type": "stream",
          "name": "stdout",
          "text": [
            "[[0.0 0.0 0.0 ... 45.0 'Doctor' 0]\n",
            " [0.0 0.0 0.0 ... 31.0 'Lawyer' 0]\n",
            " [0.0 0.0 0.0 ... 43.0 'Executive' 8]\n",
            " ...\n",
            " [0.0 0.0 0.0 ... 97.0 'Artist' 1]\n",
            " [0.0 0.0 0.0 ... 92.0 'Doctor' 6]\n",
            " [0.0 0.0 0.0 ... 70.0 'Executive' 5]]\n"
          ]
        }
      ]
    },
    {
      "cell_type": "code",
      "source": [
        "print(y_train)"
      ],
      "metadata": {
        "colab": {
          "base_uri": "https://localhost:8080/"
        },
        "id": "0ZdvsCw0oASC",
        "outputId": "c91ddca6-040d-46fe-8ad3-59460a75e306"
      },
      "execution_count": 126,
      "outputs": [
        {
          "output_type": "stream",
          "name": "stdout",
          "text": [
            "[3 1 3 ... 4 3 0]\n"
          ]
        }
      ]
    },
    {
      "cell_type": "code",
      "source": [
        "print(y_test)"
      ],
      "metadata": {
        "colab": {
          "base_uri": "https://localhost:8080/"
        },
        "id": "-yrPs48OoDWS",
        "outputId": "8ccf626b-9a04-415e-f0f1-1c45c4198b4e"
      },
      "execution_count": 127,
      "outputs": [
        {
          "output_type": "stream",
          "name": "stdout",
          "text": [
            "[5 2 3 3 4 2 1 0 2 3 1 4 0 6 2 4 2 2 3 2 3 1 0 3 6 0 4 2 4 1 1 1 2 0 2 6 2\n",
            " 3 3 6 1 2 3 6 6 3 3 2 3 5 1 2 2 1 3 1 2 6 2 3 1 2 3 2 2 3 4 1 1 5 2 2 0 6\n",
            " 3 3 6 6 4 6 0 2 2 6 3 4 2 3 0 4 0 3 0 4 0 6 5 3 1 1 2 4 1 0 0 5 0 4 6 4 3\n",
            " 5 4 6 5 2 0 6 3 2 5 2 6 5 0 6 2 5 3 3 2 6 4 2 4 5 5 4 5 1 1 2 5 5 0 4 5 3\n",
            " 4 0 0 0 4 1 4 5 2 6 4 1 4 6 0 1 3 0 4 3 1 4 1 0 5 2 3 4 1 2 4 4 1 6 6 2 3\n",
            " 1 1 6 1 5 5 6 6 6 2 2 2 0 1 5 1 2 4 5 4 3 3 6 2 5 3 1 7 4 1 1 5 6 5 5 4 3\n",
            " 0 1 1 4 2 3 2 2 0 4 4 3 4 2 6 2 5 3 2 5 4 2 2 1 4 2 5 5 2 3 6 2 5 1 2 3 2\n",
            " 7 5 6 1 1 6 3 4 6 5 3 4 5 5 4 5 1 1 1 2 3 1 6 0 2 1 2 6 3 0 5 2 0 3 5 2 1\n",
            " 5 6 1 4 2 6 2 1 3 5 4 2 3 4 1 0 3 4 4 3 4 5 3 2 0 1 2 6 0 3 0 2 0 4 1 5 2\n",
            " 1 4 4 2 0 2 6 0 5 4 0 2 5 1 1 3 0 1 4 0 1 5 1 4 5 4 5 1 6 4 5 3 1 0 2 6 2\n",
            " 3 0 3 3 3 3 2 1 0 3 1 2 5 6 0 6 0 0 4 4 2 5 6 2 6 0 3 1 4 6]\n"
          ]
        }
      ]
    },
    {
      "cell_type": "code",
      "source": [
        "from sklearn. preprocessing import StandardScaler\n",
        "sc = StandardScaler()\n",
        "X_train[:,:5] = sc.fit_transform(X_train[:,:5])\n",
        "X_test[:,:5] = sc.transform(X_test[:,:5])"
      ],
      "metadata": {
        "id": "Bhnk6g5dpVh_"
      },
      "execution_count": 155,
      "outputs": []
    },
    {
      "cell_type": "code",
      "source": [
        "print(X_train)"
      ],
      "metadata": {
        "colab": {
          "base_uri": "https://localhost:8080/"
        },
        "id": "LNSRrWFarieB",
        "outputId": "fe780294-83ee-4576-b03a-9e74dfa9ab08"
      },
      "execution_count": 156,
      "outputs": [
        {
          "output_type": "stream",
          "name": "stdout",
          "text": [
            "[[39.987498046263994 -0.025007816164017545 -0.02500781616401762 ... 39.0\n",
            "  'Healthcare' 1]\n",
            " [-0.02500781616401751 -0.025007816164017545 -0.02500781616401762 ...\n",
            "  42.0 'Homemaker' 8]\n",
            " [-0.02500781616401751 -0.025007816164017545 -0.02500781616401762 ...\n",
            "  11.0 'Lawyer' 1]\n",
            " ...\n",
            " [-0.02500781616401751 -0.025007816164017545 -0.02500781616401762 ...\n",
            "  79.0 nan 7]\n",
            " [-0.02500781616401751 -0.025007816164017545 -0.02500781616401762 ...\n",
            "  34.0 'Healthcare' 0]\n",
            " [-0.02500781616401751 -0.025007816164017545 -0.02500781616401762 ...\n",
            "  88.0 'Executive' 0]]\n"
          ]
        }
      ]
    },
    {
      "cell_type": "code",
      "source": [
        "print(X_test)"
      ],
      "metadata": {
        "colab": {
          "base_uri": "https://localhost:8080/"
        },
        "id": "kyU5Uh1xrmuI",
        "outputId": "f63b84ef-2bc0-498f-dd27-fcf7adb925b3"
      },
      "execution_count": 157,
      "outputs": [
        {
          "output_type": "stream",
          "name": "stdout",
          "text": [
            "[[-0.02500781616401751 -0.025007816164017545 -0.02500781616401762 ...\n",
            "  45.0 'Doctor' 0]\n",
            " [-0.02500781616401751 -0.025007816164017545 -0.02500781616401762 ...\n",
            "  31.0 'Lawyer' 0]\n",
            " [-0.02500781616401751 -0.025007816164017545 -0.02500781616401762 ...\n",
            "  43.0 'Executive' 8]\n",
            " ...\n",
            " [-0.02500781616401751 -0.025007816164017545 -0.02500781616401762 ...\n",
            "  97.0 'Artist' 1]\n",
            " [-0.02500781616401751 -0.025007816164017545 -0.02500781616401762 ...\n",
            "  92.0 'Doctor' 6]\n",
            " [-0.02500781616401751 -0.025007816164017545 -0.02500781616401762 ...\n",
            "  70.0 'Executive' 5]]\n"
          ]
        }
      ]
    }
  ],
  "metadata": {
    "colab": {
      "name": "Welcome To Colaboratory",
      "provenance": [],
      "include_colab_link": true
    },
    "kernelspec": {
      "display_name": "Python 3",
      "name": "python3"
    }
  },
  "nbformat": 4,
  "nbformat_minor": 0
}